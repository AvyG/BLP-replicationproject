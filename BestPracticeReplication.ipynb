{
 "cells": [
  {
   "cell_type": "markdown",
   "id": "82a5dd7d-e14a-44bc-938e-40266221fafe",
   "metadata": {},
   "source": [
    "### Replication of the best practice results from Colton and Gortmaker 2020\n",
    "\n",
    "## Fake Cereal"
   ]
  },
  {
   "cell_type": "code",
   "execution_count": 1,
   "id": "9e782b40-8aae-4797-9ba6-c497f2957d04",
   "metadata": {},
   "outputs": [],
   "source": [
    "import pyblp\n",
    "import numpy as np\n",
    "import pandas as pd\n",
    "\n",
    "pyblp.options.digits = 2\n",
    "pyblp.options.verbose = False\n",
    "pyblp.options.weights_tol = np.inf"
   ]
  },
  {
   "cell_type": "code",
   "execution_count": 2,
   "id": "a9262a5c-fe24-4491-aafb-562e0d9d0079",
   "metadata": {},
   "outputs": [
    {
     "data": {
      "text/plain": [
       "Dimensions:\n",
       "=================================================\n",
       " T    N     F    I     K1    K2    D    MD    ED \n",
       "---  ----  ---  ----  ----  ----  ---  ----  ----\n",
       "94   2256   5   1880   1     4     4    20    1  \n",
       "=================================================\n",
       "\n",
       "Formulations:\n",
       "===================================================================\n",
       "       Column Indices:           0           1           2      3  \n",
       "-----------------------------  ------  --------------  -----  -----\n",
       " X1: Linear Characteristics    prices                              \n",
       "X2: Nonlinear Characteristics    1         prices      sugar  mushy\n",
       "       d: Demographics         income  income_squared   age   child\n",
       "==================================================================="
      ]
     },
     "execution_count": 2,
     "metadata": {},
     "output_type": "execute_result"
    }
   ],
   "source": [
    "# Set the problem\n",
    "\n",
    "nevo_problem = pyblp.Problem(\n",
    "    product_formulations = (\n",
    "        pyblp.Formulation('0 + prices', absorb='C(product_ids)'),\n",
    "        pyblp.Formulation('1 + prices + sugar + mushy'),\n",
    "    ),\n",
    "    agent_formulation = pyblp.Formulation('0 + income + income_squared + age + child'),\n",
    "    product_data = pd.read_csv(pyblp.data.NEVO_PRODUCTS_LOCATION),\n",
    "    agent_data = pd.read_csv(pyblp.data.NEVO_AGENTS_LOCATION)\n",
    ")\n",
    "nevo_problem"
   ]
  },
  {
   "cell_type": "code",
   "execution_count": 3,
   "id": "1fe4e45e-dc52-4aa6-8e29-1bc2a21e11ba",
   "metadata": {},
   "outputs": [],
   "source": [
    "initial_sigma = np.diag([0.3302, 2.4526, 0.0163, 0.2441])\n",
    "initial_pi = [\n",
    "          [ 5.4819,  0,      0.2037,  0     ],\n",
    "          [15.8935, -1.2000, 0,       2.6342],\n",
    "          [-0.2506,  0,      0.0511,  0     ],\n",
    "          [ 1.2650,  0,     -0.8091,  0     ]\n",
    "    ]"
   ]
  },
  {
   "cell_type": "code",
   "execution_count": 4,
   "id": "ecbcf08f-fedd-4436-b100-d26df78880db",
   "metadata": {},
   "outputs": [
    {
     "data": {
      "text/plain": [
       "Problem Results Summary:\n",
       "=======================================================================================================\n",
       "GMM   Objective  Gradient      Hessian         Hessian     Clipped  Weighting Matrix  Covariance Matrix\n",
       "Step    Value      Norm    Min Eigenvalue  Max Eigenvalue  Shares   Condition Number  Condition Number \n",
       "----  ---------  --------  --------------  --------------  -------  ----------------  -----------------\n",
       " 1    +4.6E+00   +6.9E-06     +2.6E-05        +1.6E+04        0         +6.9E+07          +8.4E+08     \n",
       "=======================================================================================================\n",
       "\n",
       "Cumulative Statistics:\n",
       "===========================================================================\n",
       "Computation  Optimizer  Optimization   Objective   Fixed Point  Contraction\n",
       "   Time      Converged   Iterations   Evaluations  Iterations   Evaluations\n",
       "-----------  ---------  ------------  -----------  -----------  -----------\n",
       " 00:00:35       Yes          51           57          46395       143976   \n",
       "===========================================================================\n",
       "\n",
       "Nonlinear Coefficient Estimates (Robust SEs in Parentheses):\n",
       "=====================================================================================================================\n",
       "Sigma:      1         prices      sugar       mushy     |   Pi:      income    income_squared     age        child   \n",
       "------  ----------  ----------  ----------  ----------  |  ------  ----------  --------------  ----------  ----------\n",
       "  1      +5.6E-01                                       |    1      +2.3E+00      +0.0E+00      +1.3E+00    +0.0E+00 \n",
       "        (+1.6E-01)                                      |          (+1.2E+00)                  (+6.3E-01)            \n",
       "                                                        |                                                            \n",
       "prices   +0.0E+00    +3.3E+00                           |  prices   +5.9E+02      -3.0E+01      +0.0E+00    +1.1E+01 \n",
       "                    (+1.3E+00)                          |          (+2.7E+02)    (+1.4E+01)                (+4.1E+00)\n",
       "                                                        |                                                            \n",
       "sugar    +0.0E+00    +0.0E+00    -5.8E-03               |  sugar    -3.8E-01      +0.0E+00      +5.2E-02    +0.0E+00 \n",
       "                                (+1.4E-02)              |          (+1.2E-01)                  (+2.6E-02)            \n",
       "                                                        |                                                            \n",
       "mushy    +0.0E+00    +0.0E+00    +0.0E+00    +9.3E-02   |  mushy    +7.5E-01      +0.0E+00      -1.4E+00    +0.0E+00 \n",
       "                                            (+1.9E-01)  |          (+8.0E-01)                  (+6.7E-01)            \n",
       "=====================================================================================================================\n",
       "\n",
       "Beta Estimates (Robust SEs in Parentheses):\n",
       "==========\n",
       "  prices  \n",
       "----------\n",
       " -6.3E+01 \n",
       "(+1.5E+01)\n",
       "=========="
      ]
     },
     "execution_count": 4,
     "metadata": {},
     "output_type": "execute_result"
    }
   ],
   "source": [
    "# Solve the lower tolerance scenario\n",
    "\n",
    "results_tightertol = nevo_problem.solve(\n",
    "    sigma = initial_sigma,\n",
    "    pi = initial_pi,\n",
    "    optimization=pyblp.Optimization('bfgs', {'gtol': 1e-5}),\n",
    "    method='1s'\n",
    ")\n",
    "results_tightertol"
   ]
  },
  {
   "cell_type": "code",
   "execution_count": 5,
   "id": "f660c227-79ef-44b4-a761-27df2886a558",
   "metadata": {},
   "outputs": [
    {
     "data": {
      "text/plain": [
       "Problem Results Summary:\n",
       "=======================================================================================================\n",
       "GMM   Objective  Gradient      Hessian         Hessian     Clipped  Weighting Matrix  Covariance Matrix\n",
       "Step    Value      Norm    Min Eigenvalue  Max Eigenvalue  Shares   Condition Number  Condition Number \n",
       "----  ---------  --------  --------------  --------------  -------  ----------------  -----------------\n",
       " 1    +8.0E-14   +3.0E-06     +1.6E-04        +2.9E+04        0         +7.8E+07          +1.8E+08     \n",
       "=======================================================================================================\n",
       "\n",
       "Cumulative Statistics:\n",
       "===========================================================================\n",
       "Computation  Optimizer  Optimization   Objective   Fixed Point  Contraction\n",
       "   Time      Converged   Iterations   Evaluations  Iterations   Evaluations\n",
       "-----------  ---------  ------------  -----------  -----------  -----------\n",
       " 00:00:34       Yes          42           50          45899       142143   \n",
       "===========================================================================\n",
       "\n",
       "Nonlinear Coefficient Estimates (Robust SEs in Parentheses):\n",
       "=====================================================================================================================\n",
       "Sigma:      1         prices      sugar       mushy     |   Pi:      income    income_squared     age        child   \n",
       "------  ----------  ----------  ----------  ----------  |  ------  ----------  --------------  ----------  ----------\n",
       "  1      +2.1E-01                                       |    1      +6.0E+00      +0.0E+00      +1.6E-01    +0.0E+00 \n",
       "        (+7.8E-02)                                      |          (+5.2E-01)                  (+2.0E-01)            \n",
       "                                                        |                                                            \n",
       "prices   +0.0E+00    +3.0E+00                           |  prices   +9.8E+01      -5.6E+00      +0.0E+00    +4.1E+00 \n",
       "                    (+6.5E-01)                          |          (+8.6E+01)    (+4.5E+00)                (+2.2E+00)\n",
       "                                                        |                                                            \n",
       "sugar    +0.0E+00    +0.0E+00    +2.7E-02               |  sugar    -3.1E-01      +0.0E+00      +4.9E-02    +0.0E+00 \n",
       "                                (+7.2E-03)              |          (+3.5E-02)                  (+1.3E-02)            \n",
       "                                                        |                                                            \n",
       "mushy    +0.0E+00    +0.0E+00    +0.0E+00    +3.0E-01   |  mushy    +9.7E-01      +0.0E+00      -5.4E-01    +0.0E+00 \n",
       "                                            (+1.0E-01)  |          (+2.9E-01)                  (+1.8E-01)            \n",
       "=====================================================================================================================\n",
       "\n",
       "Beta Estimates (Robust SEs in Parentheses):\n",
       "==========\n",
       "  prices  \n",
       "----------\n",
       " -3.1E+01 \n",
       "(+4.5E+00)\n",
       "=========="
      ]
     },
     "execution_count": 5,
     "metadata": {},
     "output_type": "execute_result"
    }
   ],
   "source": [
    "# Introduce optimal instruments and solve \n",
    "\n",
    "instrument_results = results_tightertol.compute_optimal_instruments(method='approximate')\n",
    "optimal_instrument_problem = instrument_results.to_problem()\n",
    "\n",
    "nevo_bestpractice = optimal_instrument_problem.solve(\n",
    "    sigma = results_tightertol.sigma,\n",
    "    pi = results_tightertol.pi,\n",
    "    optimization=pyblp.Optimization('bfgs', {'gtol': 1e-5}), \n",
    "    method='1s'\n",
    ")\n",
    "nevo_bestpractice"
   ]
  },
  {
   "cell_type": "markdown",
   "id": "f8dad42f-be68-4af1-9641-7c63d0c1c136",
   "metadata": {},
   "source": [
    "The beta estimate is around -31.403, a bit far from the -27.486 reported in table 7"
   ]
  },
  {
   "cell_type": "markdown",
   "id": "607b8bf8-25f7-41c6-accf-2729e733c579",
   "metadata": {},
   "source": [
    "## Automobile Data"
   ]
  },
  {
   "cell_type": "code",
   "execution_count": 6,
   "id": "10c4c9a8-7f92-48c3-aaf7-176968033e27",
   "metadata": {},
   "outputs": [
    {
     "data": {
      "text/plain": [
       "Dimensions:\n",
       "=======================================================\n",
       " T    N     F    I     K1    K2    K3    D    MD    MS \n",
       "---  ----  ---  ----  ----  ----  ----  ---  ----  ----\n",
       "20   2217  26   4000   5     6     6     1    13    18 \n",
       "=======================================================\n",
       "\n",
       "Formulations:\n",
       "=====================================================================================\n",
       "       Column Indices:            0          1       2       3          4         5  \n",
       "-----------------------------  --------  ---------  ----  --------  ----------  -----\n",
       " X1: Linear Characteristics       1        hpwt     air     mpd       space          \n",
       "X2: Nonlinear Characteristics     1       prices    hpwt    air        mpd      space\n",
       "X3: Log Cost Characteristics      1      log(hpwt)  air   log(mpg)  log(space)  trend\n",
       "       d: Demographics         1/income                                              \n",
       "====================================================================================="
      ]
     },
     "execution_count": 6,
     "metadata": {},
     "output_type": "execute_result"
    }
   ],
   "source": [
    "am_problem = pyblp.Problem(\n",
    "    product_formulations = (\n",
    "        pyblp.Formulation('1 + hpwt + air + mpd + space'),\n",
    "        pyblp.Formulation('1 + prices + hpwt + air + mpd + space'),\n",
    "        pyblp.Formulation('1 + log(hpwt) + air + log(mpg) + log(space) + trend')\n",
    "    ),\n",
    "    agent_formulation = pyblp.Formulation('0 + I(1 / income)'),\n",
    "    costs_type = 'log',\n",
    "    product_data = pd.read_csv(pyblp.data.BLP_PRODUCTS_LOCATION), \n",
    "    agent_data = pd.read_csv(pyblp.data.BLP_AGENTS_LOCATION)\n",
    ")\n",
    "am_problem"
   ]
  },
  {
   "cell_type": "code",
   "execution_count": 7,
   "id": "46d291b7-3e90-4a9f-90af-403209946871",
   "metadata": {},
   "outputs": [],
   "source": [
    "initial_sigma = np.diag([3.612, 0, 4.628, 1.818, 1.050, 2.056])\n",
    "initial_pi = np.array([[0],[-43.501],[0],[0],[0],[0]])"
   ]
  },
  {
   "cell_type": "code",
   "execution_count": 8,
   "id": "654f408e-4f94-4a9a-9e4e-c258e6471f61",
   "metadata": {},
   "outputs": [
    {
     "data": {
      "text/plain": [
       "Problem Results Summary:\n",
       "=======================================================================================================================\n",
       "GMM   Objective    Projected    Reduced Hessian  Reduced Hessian  Clipped  Clipped  Weighting Matrix  Covariance Matrix\n",
       "Step    Value    Gradient Norm  Min Eigenvalue   Max Eigenvalue   Shares    Costs   Condition Number  Condition Number \n",
       "----  ---------  -------------  ---------------  ---------------  -------  -------  ----------------  -----------------\n",
       " 2    +5.0E+02     +2.3E-06        +4.9E-01         +5.1E+02         0        0         +4.2E+09          +3.8E+08     \n",
       "=======================================================================================================================\n",
       "\n",
       "Cumulative Statistics:\n",
       "===========================================================================\n",
       "Computation  Optimizer  Optimization   Objective   Fixed Point  Contraction\n",
       "   Time      Converged   Iterations   Evaluations  Iterations   Evaluations\n",
       "-----------  ---------  ------------  -----------  -----------  -----------\n",
       " 00:02:34       No           58           167         48339       148305   \n",
       "===========================================================================\n",
       "\n",
       "Nonlinear Coefficient Estimates (Robust SEs Adjusted for 999 Clusters in Parentheses):\n",
       "===================================================================================================\n",
       "Sigma:      1        prices      hpwt        air         mpd        space     |   Pi:     1/income \n",
       "------  ----------  --------  ----------  ----------  ----------  ----------  |  ------  ----------\n",
       "  1      +2.0E+00                                                             |    1      +0.0E+00 \n",
       "        (+6.1E+00)                                                            |                    \n",
       "                                                                              |                    \n",
       "prices   +0.0E+00   +0.0E+00                                                  |  prices   -4.5E+01 \n",
       "                                                                              |          (+9.2E+00)\n",
       "                                                                              |                    \n",
       " hpwt    +0.0E+00   +0.0E+00   +6.1E+00                                       |   hpwt    +0.0E+00 \n",
       "                              (+2.2E+00)                                      |                    \n",
       "                                                                              |                    \n",
       " air     +0.0E+00   +0.0E+00   +0.0E+00    +4.0E+00                           |   air     +0.0E+00 \n",
       "                                          (+2.1E+00)                          |                    \n",
       "                                                                              |                    \n",
       " mpd     +0.0E+00   +0.0E+00   +0.0E+00    +0.0E+00    +2.5E-01               |   mpd     +0.0E+00 \n",
       "                                                      (+5.5E-01)              |                    \n",
       "                                                                              |                    \n",
       "space    +0.0E+00   +0.0E+00   +0.0E+00    +0.0E+00    +0.0E+00    +1.9E+00   |  space    +0.0E+00 \n",
       "                                                                  (+1.1E+00)  |                    \n",
       "===================================================================================================\n",
       "\n",
       "Beta Estimates (Robust SEs Adjusted for 999 Clusters in Parentheses):\n",
       "==========================================================\n",
       "    1          hpwt        air         mpd        space   \n",
       "----------  ----------  ----------  ----------  ----------\n",
       " -7.3E+00    +3.5E+00    -1.0E+00    +4.2E-01    +4.2E+00 \n",
       "(+2.8E+00)  (+1.4E+00)  (+2.1E+00)  (+2.5E-01)  (+6.6E-01)\n",
       "==========================================================\n",
       "\n",
       "Gamma Estimates (Robust SEs Adjusted for 999 Clusters in Parentheses):\n",
       "======================================================================\n",
       "    1       log(hpwt)      air       log(mpg)   log(space)    trend   \n",
       "----------  ----------  ----------  ----------  ----------  ----------\n",
       " +2.8E+00    +9.0E-01    +4.2E-01    -5.2E-01    -2.6E-01    +2.7E-02 \n",
       "(+1.2E-01)  (+7.2E-02)  (+8.7E-02)  (+7.3E-02)  (+2.1E-01)  (+3.1E-03)\n",
       "======================================================================"
      ]
     },
     "execution_count": 8,
     "metadata": {},
     "output_type": "execute_result"
    }
   ],
   "source": [
    "results_replication = am_problem.solve(\n",
    "    initial_sigma,\n",
    "    initial_pi,\n",
    "    initial_update=True,           # update the weight matrix to starting values before first GMM\n",
    "    costs_bounds=(0.001, None),    # bounds for costs_type (since is logarithmic having a lb avoid nonpositive costs)\n",
    "    W_type='clustered',            # update the weight matrix cluster by automovil model\n",
    "    se_type='clustered',\n",
    ")\n",
    "results_replication"
   ]
  },
  {
   "cell_type": "code",
   "execution_count": 9,
   "id": "58fb4255-9a5b-4b90-bd82-db9969076963",
   "metadata": {},
   "outputs": [
    {
     "data": {
      "text/plain": [
       "Problem Results Summary:\n",
       "=======================================================================================================================\n",
       "GMM   Objective    Projected    Reduced Hessian  Reduced Hessian  Clipped  Clipped  Weighting Matrix  Covariance Matrix\n",
       "Step    Value    Gradient Norm  Min Eigenvalue   Max Eigenvalue   Shares    Costs   Condition Number  Condition Number \n",
       "----  ---------  -------------  ---------------  ---------------  -------  -------  ----------------  -----------------\n",
       " 2    +1.4E+02     +3.0E-07        +3.5E-01         +1.1E+02         0        0         +8.1E+07          +3.1E+07     \n",
       "=======================================================================================================================\n",
       "\n",
       "Cumulative Statistics:\n",
       "===========================================================================\n",
       "Computation  Optimizer  Optimization   Objective   Fixed Point  Contraction\n",
       "   Time      Converged   Iterations   Evaluations  Iterations   Evaluations\n",
       "-----------  ---------  ------------  -----------  -----------  -----------\n",
       " 00:01:47       No           50           116         26727        82094   \n",
       "===========================================================================\n",
       "\n",
       "Nonlinear Coefficient Estimates (Robust SEs Adjusted for 999 Clusters in Parentheses):\n",
       "===================================================================================================\n",
       "Sigma:      1        prices      hpwt        air         mpd        space     |   Pi:     1/income \n",
       "------  ----------  --------  ----------  ----------  ----------  ----------  |  ------  ----------\n",
       "  1      +1.6E+00                                                             |    1      +0.0E+00 \n",
       "        (+1.9E+00)                                                            |                    \n",
       "                                                                              |                    \n",
       "prices   +0.0E+00   +0.0E+00                                                  |  prices   -3.1E+01 \n",
       "                                                                              |          (+3.9E+00)\n",
       "                                                                              |                    \n",
       " hpwt    +0.0E+00   +0.0E+00   +1.9E+00                                       |   hpwt    +0.0E+00 \n",
       "                              (+2.3E+00)                                      |                    \n",
       "                                                                              |                    \n",
       " air     +0.0E+00   +0.0E+00   +0.0E+00    +1.4E+00                           |   air     +0.0E+00 \n",
       "                                          (+4.3E-01)                          |                    \n",
       "                                                                              |                    \n",
       " mpd     +0.0E+00   +0.0E+00   +0.0E+00    +0.0E+00    +1.0E-01               |   mpd     +0.0E+00 \n",
       "                                                      (+4.3E-01)              |                    \n",
       "                                                                              |                    \n",
       "space    +0.0E+00   +0.0E+00   +0.0E+00    +0.0E+00    +0.0E+00    +9.7E-01   |  space    +0.0E+00 \n",
       "                                                                  (+1.1E+00)  |                    \n",
       "===================================================================================================\n",
       "\n",
       "Beta Estimates (Robust SEs Adjusted for 999 Clusters in Parentheses):\n",
       "==========================================================\n",
       "    1          hpwt        air         mpd        space   \n",
       "----------  ----------  ----------  ----------  ----------\n",
       " -6.6E+00    +2.3E+00    +1.8E-01    +2.7E-01    +3.3E+00 \n",
       "(+7.9E-01)  (+8.2E-01)  (+2.2E-01)  (+1.6E-01)  (+4.9E-01)\n",
       "==========================================================\n",
       "\n",
       "Gamma Estimates (Robust SEs Adjusted for 999 Clusters in Parentheses):\n",
       "======================================================================\n",
       "    1       log(hpwt)      air       log(mpg)   log(space)    trend   \n",
       "----------  ----------  ----------  ----------  ----------  ----------\n",
       " +2.5E+00    +7.0E-01    +5.8E-01    -6.2E-01    -3.5E-01    +2.1E-02 \n",
       "(+1.5E-01)  (+9.3E-02)  (+4.8E-02)  (+8.5E-02)  (+2.2E-01)  (+2.5E-03)\n",
       "======================================================================"
      ]
     },
     "execution_count": 9,
     "metadata": {},
     "output_type": "execute_result"
    }
   ],
   "source": [
    "instrument_results = results_replication.compute_optimal_instruments(method='approximate')\n",
    "optimal_instrument_problem = instrument_results.to_problem()\n",
    "\n",
    "am_bestpractice = optimal_instrument_problem.solve(\n",
    "    sigma = results_replication.sigma,\n",
    "    pi = results_replication.pi,\n",
    "    initial_update=True,           # update the weight matrix to starting values before first GMM\n",
    "    costs_bounds=(0.001, None),    # bounds for costs_type (since is logarithmic having a lb avoid nonpositive costs)\n",
    "    W_type='clustered',            # update the weight matrix cluster by automovil model\n",
    "    se_type='clustered',\n",
    ")\n",
    "am_bestpractice"
   ]
  },
  {
   "cell_type": "markdown",
   "id": "201dbbfc-daac-46ed-8dfc-787c78d5e512",
   "metadata": {},
   "source": [
    "There are some discrepancies. Maybe the most apparent:\n",
    "\n",
    "|Estimate|         |Notebook     |Reported     |\n",
    "|--------|---------|-------------|-------------|\n",
    "|Means   |Air      |0.176(0.224) |0.572(0.349) |\n",
    "|Std.Dev |C        |1.591(1.926) |2.962(1.637) |\n",
    "|        |space    |0.966(1.105) |0.966(1.105) |\n",
    "|Supply  |ln(space)|-0.352(0.219)|-0.472(0.125)|\n",
    "|GMM onjective scaled by N||136.240|236|\n"
   ]
  },
  {
   "cell_type": "code",
   "execution_count": null,
   "id": "e133febb-6906-4e8a-a70b-f1d27e466816",
   "metadata": {},
   "outputs": [],
   "source": []
  }
 ],
 "metadata": {
  "kernelspec": {
   "display_name": "Python 3 (ipykernel)",
   "language": "python",
   "name": "python3"
  },
  "language_info": {
   "codemirror_mode": {
    "name": "ipython",
    "version": 3
   },
   "file_extension": ".py",
   "mimetype": "text/x-python",
   "name": "python",
   "nbconvert_exporter": "python",
   "pygments_lexer": "ipython3",
   "version": "3.9.16"
  }
 },
 "nbformat": 4,
 "nbformat_minor": 5
}
